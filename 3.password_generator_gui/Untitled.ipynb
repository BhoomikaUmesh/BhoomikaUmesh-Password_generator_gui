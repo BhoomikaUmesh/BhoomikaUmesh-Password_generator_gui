{
 "cells": [
  {
   "cell_type": "code",
   "execution_count": 1,
   "id": "7618da59-460a-4678-965c-ecf2559f1950",
   "metadata": {},
   "outputs": [],
   "source": [
    "import random\n",
    "characters = \"abcdefghijklmnopqrstuvwxyzABCDEFGHIJKLMNOPQRSTUVWXYZ!@#$%&amp;*1234567890\""
   ]
  },
  {
   "cell_type": "code",
   "execution_count": 2,
   "id": "fdf6b9c7-185c-47ea-818d-73906b2a32cc",
   "metadata": {},
   "outputs": [],
   "source": [
    "length = int(input(\"Enter Password length\"))\n",
    "password = \"\""
   ]
  },
  {
   "cell_type": "code",
   "execution_count": null,
   "id": "da59ef4c-b994-4ea3-83c9-98f8061b155b",
   "metadata": {},
   "outputs": [
    {
     "name": "stdout",
     "output_type": "stream",
     "text": [
      "b4e7W\n"
     ]
    }
   ],
   "source": [
    "for i in range(length+1):\n",
    "    password += random.choice(characters)\n",
    "print(password)"
   ]
  },
  {
   "cell_type": "code",
   "execution_count": null,
   "id": "8e4b28df-bfda-4873-a3ba-36805e9a07d0",
   "metadata": {},
   "outputs": [],
   "source": [
    "import tkinter as tk\n",
    "import string\n",
    "import random\n",
    "def generate_password():\n",
    "    password = []\n",
    "    for i in range(5):\n",
    "        alpha = random.choice(string.ascii_letters)\n",
    "        symbol = random.choice(string.punctuation)\n",
    "        numbers = random.choice(string.digits)\n",
    "        password.append(alpha)\n",
    "        password.append(symbol)\n",
    "        password.append(numbers)\n",
    "        passwords = \" \".join(str(x)for x in password)\n",
    "        label.config(text=passwords)\n",
    "root = tk.Tk()\n",
    "root.geometry(\"400x300\")\n",
    "button = tk.Button(root, text=\"Generate Password\", command=generate_password)\n",
    "button.grid(row=1, column=1)\n",
    "label = tk.Label(root, font=(\"times\", 15, \"bold\"))\n",
    "label.grid(row=4, column=2)\n",
    "root.mainloop()"
   ]
  },
  {
   "cell_type": "code",
   "execution_count": null,
   "id": "e78c4f90-2ec3-44fd-8f05-3232fe7c6a8a",
   "metadata": {},
   "outputs": [],
   "source": []
  }
 ],
 "metadata": {
  "kernelspec": {
   "display_name": "Python 3 (ipykernel)",
   "language": "python",
   "name": "python3"
  },
  "language_info": {
   "codemirror_mode": {
    "name": "ipython",
    "version": 3
   },
   "file_extension": ".py",
   "mimetype": "text/x-python",
   "name": "python",
   "nbconvert_exporter": "python",
   "pygments_lexer": "ipython3",
   "version": "3.12.2"
  }
 },
 "nbformat": 4,
 "nbformat_minor": 5
}
